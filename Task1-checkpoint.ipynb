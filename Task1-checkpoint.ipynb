{
 "cells": [
  {
   "cell_type": "code",
   "execution_count": 1,
   "id": "001d625e-19a5-4a16-a618-382c66d446e2",
   "metadata": {},
   "outputs": [
    {
     "name": "stdout",
     "output_type": "stream",
     "text": [
      "                                               Quote             Author\n",
      "0  “The world as we have created it is a process ...    Albert Einstein\n",
      "1  “It is our choices, Harry, that show what we t...       J.K. Rowling\n",
      "2  “There are only two ways to live your life. On...    Albert Einstein\n",
      "3  “The person, be it gentleman or lady, who has ...        Jane Austen\n",
      "4  “Imperfection is beauty, madness is genius and...     Marilyn Monroe\n",
      "5  “Try not to become a man of success. Rather be...    Albert Einstein\n",
      "6  “It is better to be hated for what you are tha...         André Gide\n",
      "7  “I have not failed. I've just found 10,000 way...   Thomas A. Edison\n",
      "8  “A woman is like a tea bag; you never know how...  Eleanor Roosevelt\n",
      "9  “A day without sunshine is like, you know, nig...       Steve Martin\n"
     ]
    }
   ],
   "source": [
    "# Step 1: Import necessary libraries\n",
    "# -------------------------------------\n",
    "# 'requests' is used to download the web page.\n",
    "# 'BeautifulSoup' helps us read and understand the HTML code.\n",
    "# 'pandas' helps us save data in a table (like Excel).\n",
    "import requests\n",
    "from bs4 import BeautifulSoup\n",
    "import pandas as pd\n",
    "\n",
    "\n",
    "# Step 2: Send a request to the website\n",
    "# -------------------------------------\n",
    "# We use the requests library to fetch the content of the web page.\n",
    "url = \"http://quotes.toscrape.com\"\n",
    "response = requests.get(url)\n",
    "\n",
    "\n",
    "# Step 3: Use BeautifulSoup to parse the HTML content\n",
    "# ----------------------------------------------------\n",
    "# We tell BeautifulSoup to use the built-in 'html.parser' to read the HTML code.\n",
    "soup = BeautifulSoup(response.text, 'html.parser')\n",
    "\n",
    "\n",
    "# Step 4: Find all quote containers in the HTML\n",
    "# ----------------------------------------------\n",
    "# Each quote is inside a <div> tag with class 'quote'.\n",
    "quotes = soup.find_all('div', class_='quote')\n",
    "\n",
    "\n",
    "# Step 5: Extract quote text and author from each container\n",
    "# -----------------------------------------------------------\n",
    "# We create an empty list to store our results.\n",
    "data = []\n",
    "\n",
    "# Loop through each quote block\n",
    "for quote in quotes:\n",
    "    # Get the quote text (inside a <span> with class 'text')\n",
    "    text = quote.find('span', class_='text').text\n",
    "\n",
    "    # Get the author name (inside a <small> tag with class 'author')\n",
    "    author = quote.find('small', class_='author').text\n",
    "\n",
    "    # Store the data as a dictionary\n",
    "    data.append({'Quote': text, 'Author': author})\n",
    "\n",
    "\n",
    "# Step 6: Convert the data into a table using pandas\n",
    "# ----------------------------------------------------\n",
    "df = pd.DataFrame(data)\n",
    "\n",
    "# Print the table to see the result\n",
    "print(df)\n",
    "\n",
    "\n",
    "# Step 7 (Optional): Save the data to a CSV file\n",
    "# -----------------------------------------------\n",
    "# This creates a file called 'quotes.csv' in the same folder as your script.\n",
    "df.to_csv('quotes.csv', index=False)\n"
   ]
  },
  {
   "cell_type": "code",
   "execution_count": null,
   "id": "287bc848-1bce-4c33-8194-75ef21634a41",
   "metadata": {},
   "outputs": [],
   "source": []
  }
 ],
 "metadata": {
  "kernelspec": {
   "display_name": "Python [conda env:base] *",
   "language": "python",
   "name": "conda-base-py"
  },
  "language_info": {
   "codemirror_mode": {
    "name": "ipython",
    "version": 3
   },
   "file_extension": ".py",
   "mimetype": "text/x-python",
   "name": "python",
   "nbconvert_exporter": "python",
   "pygments_lexer": "ipython3",
   "version": "3.12.7"
  }
 },
 "nbformat": 4,
 "nbformat_minor": 5
}
